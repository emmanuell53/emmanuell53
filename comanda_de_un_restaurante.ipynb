{
  "nbformat": 4,
  "nbformat_minor": 0,
  "metadata": {
    "colab": {
      "name": "comanda de un restaurante.ipynb",
      "provenance": [],
      "collapsed_sections": [],
      "authorship_tag": "ABX9TyOKceoIbkQlesu4Nd+zkpHw",
      "include_colab_link": true
    },
    "kernelspec": {
      "name": "python3",
      "display_name": "Python 3"
    },
    "language_info": {
      "name": "python"
    }
  },
  "cells": [
    {
      "cell_type": "markdown",
      "metadata": {
        "id": "view-in-github",
        "colab_type": "text"
      },
      "source": [
        "<a href=\"https://colab.research.google.com/github/emmanuell53/emmanuell53/blob/master/comanda_de_un_restaurante.ipynb\" target=\"_parent\"><img src=\"https://colab.research.google.com/assets/colab-badge.svg\" alt=\"Open In Colab\"/></a>"
      ]
    },
    {
      "cell_type": "markdown",
      "metadata": {
        "id": "IWAVBeRFRuZc"
      },
      "source": [
        ""
      ]
    },
    {
      "cell_type": "code",
      "metadata": {
        "id": "S1IUI0k4RptE",
        "colab": {
          "base_uri": "https://localhost:8080/",
          "height": 129
        },
        "outputId": "79216f91-2a94-42be-f573-05aebadbd8a9"
      },
      "source": [
        "\n",
        "class Menu(): #Clase Menu\n",
        "    cant = ()\n",
        "    total = ()\n",
        "    def Desayuno(self): #Metodo Desayuno\n",
        "        cant = input(\"Ingresa el numero de personas\")\n",
        "        total = cant*50\n",
        "        print(\"El total a pagar es : %s\" % total) #Devuelve el total a pagar\n",
        "\n",
        "    def Comida(self): #Metodo Comida\n",
        "        cant = input(\"Ingresa el numero de personas: \")\n",
        "        total = cant*50\n",
        "        print(\"El total a pagar es : %s\" % total)\n",
        "\n",
        "    def Cena(self): #Metodo Cena\n",
        "        cant = input(\"Ingresa el numero de personas: \")\n",
        "        total = cant*50\n",
        "        print(\"El total a pagar es : %s\" % total)\n",
        "\n",
        "    m=Menu()\n",
        "    print(\"--Menu--\")\n",
        "    print(\"1)Desayuno\")\n",
        "    print(\"2)Comida\")\n",
        "    print(\"3)Cena\")\n",
        "    #selecciona una opcion\n",
        "    opc = input(\"Selecciona: \")\n",
        "    #manda llamar el metodo correspondiente\n",
        "    if opc == 1:\n",
        "        m.Desayuno()\n",
        "    elif opc == 2:\n",
        "        m.Comida()\n",
        "    elif opc == 3:\n",
        "        m.Cena()\n",
        "\n",
        "    m=Menu()\n",
        "    print(\"--Menu--\")\n",
        "    print(\"1)ensalada verde\")\n",
        "    print(\"2)crema de zanahoria\")\n",
        "    print(\"3)filete\")\n",
        "    #selecciona una opcion\n",
        "    opc = input(\"Selecciona: \")\n",
        "    #manda llamar el metodo correspondiente\n",
        "    if opc == 1:\n",
        "        m.ensalada verde()\n",
        "    elif opc == 2:\n",
        "        m.crema de zanahoria()\n",
        "    elif opc == 3:\n",
        "        m.filete()\n"
      ],
      "execution_count": 3,
      "outputs": [
        {
          "output_type": "error",
          "ename": "SyntaxError",
          "evalue": "ignored",
          "traceback": [
            "\u001b[0;36m  File \u001b[0;32m\"<ipython-input-3-6c2b7f25dd4a>\"\u001b[0;36m, line \u001b[0;32m44\u001b[0m\n\u001b[0;31m    m.ensalada verde()\u001b[0m\n\u001b[0m                   ^\u001b[0m\n\u001b[0;31mSyntaxError\u001b[0m\u001b[0;31m:\u001b[0m invalid syntax\n"
          ]
        }
      ]
    }
  ]
}