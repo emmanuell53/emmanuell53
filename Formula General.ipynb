{
  "nbformat": 4,
  "nbformat_minor": 0,
  "metadata": {
    "colab": {
      "name": "Untitled1.ipynb",
      "provenance": [],
      "authorship_tag": "ABX9TyOe4640E/RGPJFbkgKjl3II",
      "include_colab_link": true
    },
    "kernelspec": {
      "name": "python3",
      "display_name": "Python 3"
    },
    "language_info": {
      "name": "python"
    }
  },
  "cells": [
    {
      "cell_type": "markdown",
      "metadata": {
        "id": "view-in-github",
        "colab_type": "text"
      },
      "source": [
        "<a href=\"https://colab.research.google.com/github/emmanuell53/emmanuell53/blob/master/Formula%20General.ipynb\" target=\"_parent\"><img src=\"https://colab.research.google.com/assets/colab-badge.svg\" alt=\"Open In Colab\"/></a>"
      ]
    },
    {
      "cell_type": "markdown",
      "metadata": {
        "id": "46rzeNI0FZ4-"
      },
      "source": [
        "##formula general"
      ]
    },
    {
      "cell_type": "code",
      "metadata": {
        "colab": {
          "base_uri": "https://localhost:8080/",
          "height": 129
        },
        "id": "Qpx5ciPjB5DR",
        "outputId": "b6e28a49-4146-4131-a108-d41c12c230e7"
      },
      "source": [
        "import math\n",
        "\n",
        "def discriminante(a,b,c):\n",
        "    discrim=pow(b,2)-(4*a*c)\n",
        "    return discrim\n",
        "\n",
        "def raices(a,b,disc):\n",
        "    raiz1=(-b+math.sqrt(disc))/(2*a)\n",
        "    raiz2=(-b-math.sqrt(disc))/(2*a)\n",
        "    return raiz1,raiz2\n",
        "\n",
        "print(\"Calculo de raices\")\n",
        "a=float(raw_input(\"a: \"))\n",
        "b=float(raw_input(\"b: \"))\n",
        "c=float(raw_input(\"c: \"))\n",
        "disc=discriminante(a,b,c)\n",
        "if disc<0:\n",
        "    print(\"No hay raices positivas\")\n",
        "else:\n",
        "    print(\"las raices son:\")\n",
        "    print raices(a,b,disc)"
      ],
      "execution_count": 4,
      "outputs": [
        {
          "output_type": "error",
          "ename": "SyntaxError",
          "evalue": "ignored",
          "traceback": [
            "\u001b[0;36m  File \u001b[0;32m\"<ipython-input-4-92f277e5dec5>\"\u001b[0;36m, line \u001b[0;32m21\u001b[0m\n\u001b[0;31m    print \"raices(a,b,disc)\"\u001b[0m\n\u001b[0m                           ^\u001b[0m\n\u001b[0;31mSyntaxError\u001b[0m\u001b[0;31m:\u001b[0m invalid syntax\n"
          ]
        }
      ]
    }
  ]
}