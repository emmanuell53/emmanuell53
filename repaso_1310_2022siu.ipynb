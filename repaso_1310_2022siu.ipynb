{
  "nbformat": 4,
  "nbformat_minor": 0,
  "metadata": {
    "colab": {
      "name": "repaso_1310_2022.ipynb",
      "provenance": [],
      "collapsed_sections": [],
      "authorship_tag": "ABX9TyP345CoiMr4LVg6q8CjZX17",
      "include_colab_link": true
    },
    "kernelspec": {
      "name": "python3",
      "display_name": "Python 3"
    },
    "language_info": {
      "name": "python"
    }
  },
  "cells": [
    {
      "cell_type": "markdown",
      "metadata": {
        "id": "view-in-github",
        "colab_type": "text"
      },
      "source": [
        "<a href=\"https://colab.research.google.com/github/emmanuell53/emmanuell53/blob/master/repaso_1310_2022siu.ipynb\" target=\"_parent\"><img src=\"https://colab.research.google.com/assets/colab-badge.svg\" alt=\"Open In Colab\"/></a>"
      ]
    },
    {
      "cell_type": "markdown",
      "metadata": {
        "id": "jf2Qe77sfL6m"
      },
      "source": [
        "# Repaso de programación con Python 3\n",
        "\n",
        "###### EDD 1310\n",
        "\n",
        "La función print\n",
        "\n",
        "1. utilizando comillas dobles\n",
        "2. utilizando el signo \",\"\n",
        "3. utilizando \"+\"\n",
        "4. utilizando la funcion format\n",
        "5. utilizando el operador f\"\""
      ]
    },
    {
      "cell_type": "code",
      "metadata": {
        "colab": {
          "base_uri": "https://localhost:8080/"
        },
        "id": "6Z6_1RfVb-6H",
        "outputId": "5be3330f-83b4-4176-d292-21e496c755c2"
      },
      "source": [
        "print(\"Hola mundo\")\n",
        "print (\"holi xd\")\n",
        "\n",
        "nombre = \"Emmanuell\"\n",
        "carrera = \"Ingenieria en Computacion\"\n",
        "\n",
        "print(nombre)\n",
        "\n",
        "print(\"Hola\" , nombre )\n",
        "print(\"Hola\" + nombre )\n",
        "\n",
        "print(\"Tu nombre es\" , nombre , \"y estudiaste\" , carrera)\n",
        "\n",
        "# con format\n",
        "\n",
        "\n",
        "print(\"Tu nombre es {1} y \\n estudiaste {0}\".format (\"juan\",carrera))\n",
        "\n",
        "# con el operador f\"\"\"\n",
        "\n",
        "print( f\"Tu nombre es {nombre} y estudiaste {carrera}\" )\n",
        "\n",
        "# salto de linea al final\n",
        "\n",
        "print(nombre , end=\"\")\n",
        "print(\" \", end=\"\")\n",
        "print(carrera, end=\"\")"
      ],
      "execution_count": null,
      "outputs": [
        {
          "output_type": "stream",
          "name": "stdout",
          "text": [
            "Hola mundo\n",
            "holi xd\n",
            "Emmanuell\n",
            "Hola Emmanuell\n",
            "HolaEmmanuell\n",
            "Tu nombre es Emmanuell y estudiaste Ingenieria en Computacion\n",
            "Tu nombre es Ingenieria en Computacion y \n",
            " estudiaste juan\n",
            "Tu nombre es Emmanuell y estudiaste Ingenieria en Computacion\n",
            "Emmanuell Ingenieria en Computacion"
          ]
        }
      ]
    },
    {
      "cell_type": "markdown",
      "metadata": {
        "id": "zuYdmhqqkqmL"
      },
      "source": [
        "## Entrada de datos\n",
        "#### funcion input()\n",
        "\n",
        "Sirve para pedir datos al usuario, equivalente al sacnf del lenguaje \"c\" o a la clase scanner de java\n",
        "\n",
        "Siempre regresa un string."
      ]
    },
    {
      "cell_type": "code",
      "metadata": {
        "colab": {
          "base_uri": "https://localhost:8080/"
        },
        "id": "358K6vwTiuBe",
        "outputId": "4ccaae4a-8ba3-41f3-96f7-cb42188b2379"
      },
      "source": [
        "nombre = input(\"Introduce tu nombre: \")\n",
        "print(nombre)\n",
        "\n",
        "edad = input(\"Escribe tu edad: \")\n",
        "print(edad)\n",
        "\n",
        "semestre = input(\"en que semestre estas? \")\n",
        "print(semestre)\n",
        "semestre = int(semestre) + 10\n",
        "print(semestre)\n",
        "\n",
        "semestre = int( input(\"Cual es tu semestre:\"))\n",
        "\n",
        "print(\"gracias por participar :)\")"
      ],
      "execution_count": null,
      "outputs": [
        {
          "output_type": "stream",
          "name": "stdout",
          "text": [
            "Introduce tu nombre: juan\n",
            "juan\n",
            "Escribe tu edad: 19\n",
            "19\n",
            "en que semestre estas? 3\n",
            "3\n",
            "13\n",
            "Cual es tu semestre:3\n",
            "gracias por participar :)\n"
          ]
        }
      ]
    },
    {
      "cell_type": "markdown",
      "metadata": {
        "id": "c1iozW3ingtj"
      },
      "source": [
        "### TAREA MORAL\n",
        "Investiga los siguientes conceptos en python\n",
        "\n",
        "Operadores\n",
        "1. aritmeticos\n",
        "2. logicos\n",
        "3. booleanos (and, or, not)\n",
        "\n",
        "Aritmetica\n",
        "1. Asignacion\n",
        "2. Agrupacion de ecuaciones con parentesis (precedencia de operaciones)\n",
        "\n",
        "Comentarios\n",
        "1. de simple linea\n",
        "2. de linea multiple\n",
        "\n",
        "Tipos de datos en python\n",
        "1. numericos\n",
        "2. listas\n",
        "3. tuplas\n",
        "4. booleano\n"
      ]
    },
    {
      "cell_type": "markdown",
      "metadata": {
        "id": "NbYfSeJSoRBN"
      },
      "source": [
        ""
      ]
    },
    {
      "cell_type": "markdown",
      "metadata": {
        "id": "XPxXt58PorZe"
      },
      "source": [
        "# Repaso del tipo de dato string (str)\n",
        "\n",
        "Es un tipo de dato muy versatil. Los tipos de python en realidad son objetos (POO), es decir, tiene atributos y metodos.\n",
        "\n",
        "Los valores internos de un string se almacenan como un arreglo, es decir, se accede a los elementos con el operador _[indice]_"
      ]
    },
    {
      "cell_type": "markdown",
      "metadata": {
        "id": "9e56Mh1IGK2R"
      },
      "source": [
        ""
      ]
    },
    {
      "cell_type": "code",
      "metadata": {
        "colab": {
          "base_uri": "https://localhost:8080/"
        },
        "id": "44kRVWmSpGhJ",
        "outputId": "fce5ec4c-97e0-4896-9105-a650688b14df"
      },
      "source": [
        "frase = \"El conocimiento me persigue... pero yo soy mas rapido!!!\"\n",
        "print(frase[3])\n",
        "\n",
        "# como se almacena la información\n",
        "\n",
        "print( len( frase ) )\n",
        "\n",
        "print( frase[55] )\n",
        "\n",
        "# Indexado negativo\n",
        "print( frase[ -8 ])\n",
        "\n",
        "# iterar sobre un string\n",
        "for letra in frase:\n",
        "    print(letra)\n",
        "    print(\"fin\")"
      ],
      "execution_count": null,
      "outputs": [
        {
          "output_type": "stream",
          "name": "stdout",
          "text": [
            "c\n",
            "56\n",
            "!\n",
            "a\n",
            "E\n",
            "fin\n",
            "l\n",
            "fin\n",
            " \n",
            "fin\n",
            "c\n",
            "fin\n",
            "o\n",
            "fin\n",
            "n\n",
            "fin\n",
            "o\n",
            "fin\n",
            "c\n",
            "fin\n",
            "i\n",
            "fin\n",
            "m\n",
            "fin\n",
            "i\n",
            "fin\n",
            "e\n",
            "fin\n",
            "n\n",
            "fin\n",
            "t\n",
            "fin\n",
            "o\n",
            "fin\n",
            " \n",
            "fin\n",
            "m\n",
            "fin\n",
            "e\n",
            "fin\n",
            " \n",
            "fin\n",
            "p\n",
            "fin\n",
            "e\n",
            "fin\n",
            "r\n",
            "fin\n",
            "s\n",
            "fin\n",
            "i\n",
            "fin\n",
            "g\n",
            "fin\n",
            "u\n",
            "fin\n",
            "e\n",
            "fin\n",
            ".\n",
            "fin\n",
            ".\n",
            "fin\n",
            ".\n",
            "fin\n",
            " \n",
            "fin\n",
            "p\n",
            "fin\n",
            "e\n",
            "fin\n",
            "r\n",
            "fin\n",
            "o\n",
            "fin\n",
            " \n",
            "fin\n",
            "y\n",
            "fin\n",
            "o\n",
            "fin\n",
            " \n",
            "fin\n",
            "s\n",
            "fin\n",
            "o\n",
            "fin\n",
            "y\n",
            "fin\n",
            " \n",
            "fin\n",
            "m\n",
            "fin\n",
            "a\n",
            "fin\n",
            "s\n",
            "fin\n",
            " \n",
            "fin\n",
            "r\n",
            "fin\n",
            "a\n",
            "fin\n",
            "p\n",
            "fin\n",
            "i\n",
            "fin\n",
            "d\n",
            "fin\n",
            "o\n",
            "fin\n",
            "!\n",
            "fin\n",
            "!\n",
            "fin\n",
            "!\n",
            "fin\n"
          ]
        }
      ]
    },
    {
      "cell_type": "markdown",
      "metadata": {
        "id": "5jqnsOHzGPrM"
      },
      "source": [
        "# slicing (rebanando)\n",
        "\n",
        "Es posible seleccionar segmentos de una lista (str) por medio de la sintaxis `[ <inicio> : <Tope> : <incremento> ]`\n",
        "\n",
        "Por defecto:\n",
        "  - Inicio = 0\n",
        "  - Tope = tamaño de lista (str), no incluye el tope\n",
        "  - Incremento = 1"
      ]
    },
    {
      "cell_type": "code",
      "metadata": {
        "colab": {
          "base_uri": "https://localhost:8080/"
        },
        "id": "Gj32JWWCG4jR",
        "outputId": "e8cfa547-1e76-4980-eb9c-210831599811"
      },
      "source": [
        "nombre = \"Facultad de Estudios Superiores Aragón\"\n",
        "\n",
        "print( nombre[0] )\n",
        "print( nombre[-1] )\n",
        "\n",
        "# slicing\n",
        "\n",
        "print( nombre[ 2 : 5 : 1 ] )\n",
        "print( nombre[ 0 : 8 : 1 ] )\n",
        "\n",
        "# slicing con indexado negativo\n",
        "\n",
        "print( nombre[ -6 :  : -1 ] )"
      ],
      "execution_count": null,
      "outputs": [
        {
          "output_type": "stream",
          "name": "stdout",
          "text": [
            "F\n",
            "n\n",
            "cul\n",
            "Facultad\n",
            "A seroirepuS soidutsE ed datlucaF\n"
          ]
        }
      ]
    },
    {
      "cell_type": "markdown",
      "metadata": {
        "id": "w52BpGTpKlMo"
      },
      "source": [
        "# String como objeto\n",
        "\n",
        "El tipo de dato string es una clase por lo tanto tiene atributos y metodos\n",
        "\n",
        "### Ayuda en linea de python\n",
        "\n",
        "Hay 2 funciones que te dan ayuda en Python:\n",
        "\n",
        "- dir()\n",
        "- help()"
      ]
    },
    {
      "cell_type": "code",
      "metadata": {
        "colab": {
          "base_uri": "https://localhost:8080/"
        },
        "id": "cOUTubrjK1ES",
        "outputId": "efe5aa1c-5417-4f43-8100-97895b0152ab"
      },
      "source": [
        "dir(str)"
      ],
      "execution_count": null,
      "outputs": [
        {
          "output_type": "execute_result",
          "data": {
            "text/plain": [
              "['__add__',\n",
              " '__class__',\n",
              " '__contains__',\n",
              " '__delattr__',\n",
              " '__dir__',\n",
              " '__doc__',\n",
              " '__eq__',\n",
              " '__format__',\n",
              " '__ge__',\n",
              " '__getattribute__',\n",
              " '__getitem__',\n",
              " '__getnewargs__',\n",
              " '__gt__',\n",
              " '__hash__',\n",
              " '__init__',\n",
              " '__init_subclass__',\n",
              " '__iter__',\n",
              " '__le__',\n",
              " '__len__',\n",
              " '__lt__',\n",
              " '__mod__',\n",
              " '__mul__',\n",
              " '__ne__',\n",
              " '__new__',\n",
              " '__reduce__',\n",
              " '__reduce_ex__',\n",
              " '__repr__',\n",
              " '__rmod__',\n",
              " '__rmul__',\n",
              " '__setattr__',\n",
              " '__sizeof__',\n",
              " '__str__',\n",
              " '__subclasshook__',\n",
              " 'capitalize',\n",
              " 'casefold',\n",
              " 'center',\n",
              " 'count',\n",
              " 'encode',\n",
              " 'endswith',\n",
              " 'expandtabs',\n",
              " 'find',\n",
              " 'format',\n",
              " 'format_map',\n",
              " 'index',\n",
              " 'isalnum',\n",
              " 'isalpha',\n",
              " 'isascii',\n",
              " 'isdecimal',\n",
              " 'isdigit',\n",
              " 'isidentifier',\n",
              " 'islower',\n",
              " 'isnumeric',\n",
              " 'isprintable',\n",
              " 'isspace',\n",
              " 'istitle',\n",
              " 'isupper',\n",
              " 'join',\n",
              " 'ljust',\n",
              " 'lower',\n",
              " 'lstrip',\n",
              " 'maketrans',\n",
              " 'partition',\n",
              " 'replace',\n",
              " 'rfind',\n",
              " 'rindex',\n",
              " 'rjust',\n",
              " 'rpartition',\n",
              " 'rsplit',\n",
              " 'rstrip',\n",
              " 'split',\n",
              " 'splitlines',\n",
              " 'startswith',\n",
              " 'strip',\n",
              " 'swapcase',\n",
              " 'title',\n",
              " 'translate',\n",
              " 'upper',\n",
              " 'zfill']"
            ]
          },
          "metadata": {},
          "execution_count": 5
        }
      ]
    },
    {
      "cell_type": "code",
      "metadata": {
        "colab": {
          "base_uri": "https://localhost:8080/",
          "height": 435
        },
        "id": "TeOiQFLfLZiK",
        "outputId": "30dd2e17-1366-4051-d000-c047511067e7"
      },
      "source": [
        "apellidos = \"ramirez fuentes\"\n",
        "\n",
        "print( apellidos.capitalize() )\n",
        "print( apellidos.title() )\n",
        "print( apellidos. find('a') )\n",
        "print( apellidos.lower() )\n",
        "print( apellidos.upper() )\n",
        "\n",
        "\n",
        "numeros = \"   1 ,   2   ,   3   4,5,6   \"\n",
        "num_divididos = numeros.split(',')\n",
        "print( num_divididos )\n",
        "\n",
        "#num_divididos[0] = num_divididos[0].strip()\n",
        "#num_divididos[1] = num_divididos[1].strip()\n",
        "#num_divididos[2] = num_divididos[2].strip()\n",
        "#num_divididos[3] = num_divididos[3].strip()\n",
        "#num_divididos[4] = num_divididos[4].strip()\n",
        "#num_divididos[5] = num_divididos[5].strip()\n",
        "print( num_divididos )\n",
        "\n",
        "for elem in num_divididos:\n",
        "  print( elem )\n",
        "\n",
        "for index in range(6):\n",
        "  num_divididos[index] = num_divididos[index].strip()\n",
        "\n",
        "print( num_divididos)"
      ],
      "execution_count": null,
      "outputs": [
        {
          "output_type": "stream",
          "name": "stdout",
          "text": [
            "Ramirez fuentes\n",
            "Ramirez Fuentes\n",
            "1\n",
            "ramirez fuentes\n",
            "RAMIREZ FUENTES\n",
            "['   1 ', '   2   ', '   3   4', '5', '6   ']\n",
            "['   1 ', '   2   ', '   3   4', '5', '6   ']\n",
            "   1 \n",
            "   2   \n",
            "   3   4\n",
            "5\n",
            "6   \n"
          ]
        },
        {
          "output_type": "error",
          "ename": "IndexError",
          "evalue": "ignored",
          "traceback": [
            "\u001b[0;31m---------------------------------------------------------------------------\u001b[0m",
            "\u001b[0;31mIndexError\u001b[0m                                Traceback (most recent call last)",
            "\u001b[0;32m<ipython-input-16-f17b00faf2f1>\u001b[0m in \u001b[0;36m<module>\u001b[0;34m()\u001b[0m\n\u001b[1;32m     24\u001b[0m \u001b[0;34m\u001b[0m\u001b[0m\n\u001b[1;32m     25\u001b[0m \u001b[0;32mfor\u001b[0m \u001b[0mindex\u001b[0m \u001b[0;32min\u001b[0m \u001b[0mrange\u001b[0m\u001b[0;34m(\u001b[0m\u001b[0;36m6\u001b[0m\u001b[0;34m)\u001b[0m\u001b[0;34m:\u001b[0m\u001b[0;34m\u001b[0m\u001b[0;34m\u001b[0m\u001b[0m\n\u001b[0;32m---> 26\u001b[0;31m   \u001b[0mnum_divididos\u001b[0m\u001b[0;34m[\u001b[0m\u001b[0mindex\u001b[0m\u001b[0;34m]\u001b[0m \u001b[0;34m=\u001b[0m \u001b[0mnum_divididos\u001b[0m\u001b[0;34m[\u001b[0m\u001b[0mindex\u001b[0m\u001b[0;34m]\u001b[0m\u001b[0;34m.\u001b[0m\u001b[0mstrip\u001b[0m\u001b[0;34m(\u001b[0m\u001b[0;34m)\u001b[0m\u001b[0;34m\u001b[0m\u001b[0;34m\u001b[0m\u001b[0m\n\u001b[0m\u001b[1;32m     27\u001b[0m \u001b[0;34m\u001b[0m\u001b[0m\n\u001b[1;32m     28\u001b[0m \u001b[0mprint\u001b[0m\u001b[0;34m(\u001b[0m \u001b[0mnum_divididos\u001b[0m\u001b[0;34m)\u001b[0m\u001b[0;34m\u001b[0m\u001b[0;34m\u001b[0m\u001b[0m\n",
            "\u001b[0;31mIndexError\u001b[0m: list index out of range"
          ]
        }
      ]
    },
    {
      "cell_type": "markdown",
      "metadata": {
        "id": "zNzq_vr9PcQf"
      },
      "source": [
        "# Estructuras de control\n",
        "\n",
        "## if\n",
        "\n",
        "## if-else\n",
        "\n",
        "## switch - casi (en pythin se implementa con IF)\n",
        "\n",
        "## while y do-while"
      ]
    },
    {
      "cell_type": "code",
      "metadata": {
        "colab": {
          "base_uri": "https://localhost:8080/",
          "height": 129
        },
        "id": "ZvNEdoAfPfvw",
        "outputId": "4b280c8d-7403-4867-ad6e-745920661326"
      },
      "source": [
        "# if\n",
        "a = 2\n",
        "b = 3\n",
        "print( a > b)\n",
        "\n",
        "if a > b :\n",
        "  print(\"Estamos en el IF\")\n",
        "  print(\"A es mayor que B\")\n",
        "print(\"Fin del programa\")\n",
        "\n",
        "#########################\n",
        "\n",
        "if c > a:\n",
        "  if c > b:\n",
        "    print(\"C es el mayor de los 3\")\n",
        "\n",
        "if c>a and c>b:\n",
        "  print(\"C es el mayor de los 3\")\n",
        "\n",
        "# if else, cual de las 3 (a,b,c)variables\n",
        "if a > b: \n",
        "  if a > c:\n",
        "    print(\"A es la mayor\")\n",
        "  else:\n",
        "    print(\"C es la mayor\")\n",
        "else:\n",
        "  if b > c:\n",
        "    print(\"B es la mayor\")\n",
        "  else: \n",
        "    print(\"C es la mayor\") \n",
        "\n",
        "# if - else tiene una notacion especial cuando se encadena un if dentro de un else\n",
        "\n",
        "if a > b: \n",
        "  if a > c:\n",
        "    print(\"A es la mayor\")\n",
        "  else:\n",
        "    print(\"C es la mayor\")\n",
        "elif: \n",
        "  if b > c:\n",
        "    print(\"B es la mayor\")\n",
        "else: \n",
        "    print(\"C es la mayor\") \n",
        " print(\"Fin del programa\")\n",
        "\n",
        "# pedir al usuario un numero entre 1 y 7, e imprimir el dia de la semana que corresponda. El Lunes es 1, entonces el amrtes es 2\n",
        "  opcion = int(input(\"Introduce un numero entre 1 y 7:\") )\n",
        "\n",
        "  if opcion > 0 and opcion < 8:\n",
        "    if opcion == 1:\n",
        "      print(\"Lunes\")\n",
        "    elif opcion == 2:\n",
        "      print(\"Martes\")\n",
        "    elif opcion == 3:\n",
        "      print(\"Miercoles\")\n",
        "    elif opcion == 4:\n",
        "      print(\"Jueves\")\n",
        "    elif opcion == 5:\n",
        "      print(\"Viernes\")\n",
        "    elif opcion == 7:\n",
        "      print(\"Sabado\")\n",
        "    elif opcion == 7:\n",
        "      print(\"Domingo\")\n",
        "\n",
        "  else:\n",
        "    print(\"Tu dato esta fuera de lo solicitado\")\n"
      ],
      "execution_count": null,
      "outputs": [
        {
          "output_type": "error",
          "ename": "SyntaxError",
          "evalue": "ignored",
          "traceback": [
            "\u001b[0;36m  File \u001b[0;32m\"<ipython-input-44-593f9908181d>\"\u001b[0;36m, line \u001b[0;32m39\u001b[0m\n\u001b[0;31m    elif:\u001b[0m\n\u001b[0m        ^\u001b[0m\n\u001b[0;31mSyntaxError\u001b[0m\u001b[0;31m:\u001b[0m invalid syntax\n"
          ]
        }
      ]
    },
    {
      "cell_type": "code",
      "metadata": {
        "colab": {
          "base_uri": "https://localhost:8080/",
          "height": 129
        },
        "id": "ly8fn2z1UznS",
        "outputId": "4ba8642d-f811-41f8-b96f-92b6d2f625b2"
      },
      "source": [
        "# FOR y range## range() es una funcion que te proporciona un enumerado\n",
        "\n",
        "algo = range(4,10,2)\n",
        "frutas = [ 'pera' , 'Manzana' , 'Aguacate' , 'Kiwi' , 'Platano' ]\n",
        "nombre = \"Santiago\"\n",
        "print(algo)\n",
        "\n",
        "for x in algo: # for(int x=4 ; x<10 ; x=x+2)\n",
        "  print(x)\n",
        "\n",
        "for index in range(0,5,1):\n",
        "  print(frutas[index])\n",
        "\n",
        "# FOR e iteradores (For-each)\n",
        "for fruit in frutas: \n",
        "  print( fruit )\n",
        "\n",
        "for letra in nombre\n",
        "  print('nombre')"
      ],
      "execution_count": null,
      "outputs": [
        {
          "output_type": "error",
          "ename": "SyntaxError",
          "evalue": "ignored",
          "traceback": [
            "\u001b[0;36m  File \u001b[0;32m\"<ipython-input-90-0bdc0211b513>\"\u001b[0;36m, line \u001b[0;32m18\u001b[0m\n\u001b[0;31m    for letra in nombre\u001b[0m\n\u001b[0m                       ^\u001b[0m\n\u001b[0;31mSyntaxError\u001b[0m\u001b[0;31m:\u001b[0m invalid syntax\n"
          ]
        }
      ]
    },
    {
      "cell_type": "code",
      "metadata": {
        "colab": {
          "base_uri": "https://localhost:8080/"
        },
        "id": "B3Tu9uI2YCRR",
        "outputId": "b758c4bf-6ab8-429b-aa57-87c6d8885d45"
      },
      "source": [
        "#while\n",
        "\n",
        "#hacer un programa que imprima del 1 al 10\n",
        "\n",
        "control = 1\n",
        "\n",
        "while control <= 10:\n",
        " print( control )\n",
        " control += 1"
      ],
      "execution_count": null,
      "outputs": [
        {
          "output_type": "stream",
          "name": "stdout",
          "text": [
            "1\n",
            "2\n",
            "3\n",
            "4\n",
            "5\n",
            "6\n",
            "7\n",
            "8\n",
            "9\n",
            "10\n"
          ]
        }
      ]
    },
    {
      "cell_type": "markdown",
      "metadata": {
        "id": "DknvfY6uZDml"
      },
      "source": [
        "# funciones\n",
        "\n",
        "Es un segmento de codigo recibe, cero, o mas valores de entrada, realiza una o un conjunto de operaciones de forma interna y regresa un solo tipo de dato, aunque ese valor sea None (void)\n",
        "\n",
        "Las funciones se declaran con la palabra reservada def"
      ]
    },
    {
      "cell_type": "code",
      "metadata": {
        "colab": {
          "base_uri": "https://localhost:8080/"
        },
        "id": "NIJxzq0-ZDE_",
        "outputId": "7a29922a-bf91-4e8b-8ddd-446ba3e52c78"
      },
      "source": [
        "# funcion suma \n",
        "\n",
        "def suma( a , b):\n",
        "    c = 0\n",
        "    c = a + b\n",
        "    return c\n",
        "\n",
        "print( suma( 4 , 5 ) )\n",
        "\n",
        "# funcion que salude personas\n",
        "\n",
        "def saludar( nombre ):\n",
        "    print(f\" Hola {nombre}, ¿como estas?\")\n",
        "\n",
        "saludar(\"Anacleto\")\n",
        "nombre = \"Juan\"\n",
        "saludar(nombre)\n",
        "\n",
        "res = saludar(nombre)\n",
        "print(res)"
      ],
      "execution_count": null,
      "outputs": [
        {
          "output_type": "stream",
          "name": "stdout",
          "text": [
            "9\n",
            " Hola Anacleto, ¿como estas?\n",
            " Hola Juan, ¿como estas?\n",
            " Hola Juan, ¿como estas?\n",
            "None\n"
          ]
        }
      ]
    },
    {
      "cell_type": "markdown",
      "metadata": {
        "id": "2jFOtyJtJNz4"
      },
      "source": [
        "# default y funciones\n",
        "\n",
        "Hay ocasiones que es necesario declarar valores por defecto en los argumentos de una funcion."
      ]
    },
    {
      "cell_type": "code",
      "metadata": {
        "colab": {
          "base_uri": "https://localhost:8080/"
        },
        "id": "uW6U7co_JeII",
        "outputId": "7434c01d-6a79-42fe-8809-732e2363c335"
      },
      "source": [
        "def saludar( nombre , veces=5 ):\n",
        "    for x in range( veces ):\n",
        "        print(f\"{x}.-Hola { nombre } \")\n",
        "\n",
        "saludar( \"Juan\" )\n",
        "\n",
        "# argumentos con llamadas no posicionales"
      ],
      "execution_count": null,
      "outputs": [
        {
          "output_type": "stream",
          "name": "stdout",
          "text": [
            "0.-Hola Juan \n",
            "1.-Hola Juan \n",
            "2.-Hola Juan \n",
            "3.-Hola Juan \n",
            "4.-Hola Juan \n"
          ]
        }
      ]
    },
    {
      "cell_type": "markdown",
      "metadata": {
        "id": "Lu6b2jU8HdBc"
      },
      "source": [
        "Listas, diccionarios, tuplas y sets"
      ]
    },
    {
      "cell_type": "markdown",
      "metadata": {
        "id": "PxlWKcf3MDbX"
      },
      "source": [
        "# Listas\n",
        "Son estructuras de datos declaradas en python, funcionan con arreglos en java y c, con algunas diferencias.\n",
        "\n",
        "- Usan el selector [  ]\n",
        "- Estructura secuencial\n",
        "- Son mutables\n",
        "- Pueden contener valores de diferente tipo [1,\"manzanas\", true, 1.23]\n",
        "- Pueden ser anidados (Mutiples dimensiones)\n",
        "- Se crean usando el operador y list()"
      ]
    },
    {
      "cell_type": "code",
      "metadata": {
        "colab": {
          "base_uri": "https://localhost:8080/"
        },
        "id": "lITMoicyM5cX",
        "outputId": "d0111630-48fa-48be-9f6c-58da4f9c38b1"
      },
      "source": [
        "frutas = [ \"pera\" , \"lima\" , \"limon\" , \"kiwi\" , \"manzana\"]\n",
        "print(frutas)\n",
        "print(frutas [1])\n",
        "frutas[1] = \"mango\"\n",
        "print(frutas)\n",
        "persona = [\"Juan\" , 1.78 , 19 , False , 70.5 , \"ICO\"]\n",
        "print(persona)\n",
        "print(persona[-1])\n",
        "\n",
        "#Slicing\n",
        "numeros = [2,4,6,8,10,12,14,16,18,20]\n",
        "print(numeros)"
      ],
      "execution_count": null,
      "outputs": [
        {
          "output_type": "stream",
          "name": "stdout",
          "text": [
            "['pera', 'lima', 'limon', 'kiwi', 'manzana']\n",
            "lima\n",
            "['pera', 'mango', 'limon', 'kiwi', 'manzana']\n",
            "['Juan', 1.78, 19, False, 70.5, 'ICO']\n",
            "ICO\n",
            "[2, 4, 6, 8, 10, 12, 14, 16, 18, 20]\n"
          ]
        }
      ]
    },
    {
      "cell_type": "code",
      "metadata": {
        "colab": {
          "base_uri": "https://localhost:8080/",
          "height": 89
        },
        "id": "s9a_1MuYPIDa",
        "outputId": "ce545863-fcff-4513-ea84-cba23f716c31"
      },
      "source": [
        "# Listas multi dimensionales\n",
        "\n",
        "bds=[\"mysql\" , \"Oracle\" , \"HD2\" , \"Mongo\" , \"2SQLite\"]\n",
        "leng_prog = [ \"C\" , \"Java\" , \"JS\" , \"C++\" , \"C#\" , \"Python\"]\n",
        "tecnologias = [ bds , leng_prog]\n",
        "\n",
        "print(tecnologias)\n"
      ],
      "execution_count": null,
      "outputs": [
        {
          "output_type": "stream",
          "name": "stdout",
          "text": [
            "[['mysql', 'Oracle', 'HD2', 'Mongo', '2SQLite'], ['C', 'Java', 'JS', 'C++', 'C#', 'Python']]\n"
          ]
        },
        {
          "output_type": "execute_result",
          "data": {
            "application/vnd.google.colaboratory.intrinsic+json": {
              "type": "string"
            },
            "text/plain": [
              "\"\\n[['mysql', 'Oracle', 'HD2', 'Mongo', '2SQLite'], ['C', 'Java', 'JS', 'C++', 'C#', 'Python']]\\n\""
            ]
          },
          "metadata": {},
          "execution_count": 18
        }
      ]
    },
    {
      "cell_type": "code",
      "metadata": {
        "colab": {
          "base_uri": "https://localhost:8080/"
        },
        "id": "5gy3wPvPdXb2",
        "outputId": "b1a2f335-3d27-488d-ccfe-11bc2dfe057c"
      },
      "source": [
        "estudiante = {\n",
        "\"nombre\" : { \"nombres\" : [\"Juan\", \"Jose\"] ,\n",
        "\"paterno\" : \"Pérez\" ,\n",
        "\"materno\" : \" Garcia\"\n",
        "} ,\n",
        "\"edad\" : 19 ,\n",
        "\"estatura\" : 1.7,\n",
        "\"carrera\" : {\n",
        "\"escuala\" : \"UNAM FES Aragón\",\n",
        "\"Carrera\" : \"ICO\",\n",
        "\"semestre\" : 2\n",
        "},\n",
        "\"direccion\" : {\n",
        "\"calle\" : \"Colorines\",\n",
        "\"num_exterior\" : 34,\n",
        "\"interior\" : \"apartmento B\"\n",
        "},\n",
        "\"telefonos\" : {\n",
        "\"casa\" : 556463663,\n",
        "\"celular\" : [\"+5255767664\" , \"+52557373773\"]\n",
        "}\n",
        "\n",
        "}\n",
        "\n",
        "print(estudiante['estatura'])\n",
        "print(estudiante['direccion']['calle'])\n",
        "print( estudiante['telefonos']['celular'][1])"
      ],
      "execution_count": null,
      "outputs": [
        {
          "output_type": "stream",
          "name": "stdout",
          "text": [
            "1.7\n",
            "Colorines\n",
            "+52557373773\n"
          ]
        }
      ]
    },
    {
      "cell_type": "code",
      "metadata": {
        "colab": {
          "base_uri": "https://localhost:8080/",
          "height": 367
        },
        "id": "AHXhn9bdRSqJ",
        "outputId": "edd6a088-3b28-4025-89f0-e709461877cd"
      },
      "source": [
        "import mimodulo \n",
        "\n",
        "mimodulo.mi_suma( 3 , 4 )\n",
        "\n",
        "mimodulo.mi_print(\"hola k ase\")\n",
        "mimodulo.al_reves(\"hola k ase\")"
      ],
      "execution_count": null,
      "outputs": [
        {
          "output_type": "error",
          "ename": "ModuleNotFoundError",
          "evalue": "ignored",
          "traceback": [
            "\u001b[0;31m---------------------------------------------------------------------------\u001b[0m",
            "\u001b[0;31mModuleNotFoundError\u001b[0m                       Traceback (most recent call last)",
            "\u001b[0;32m<ipython-input-3-acb27a1f9572>\u001b[0m in \u001b[0;36m<module>\u001b[0;34m()\u001b[0m\n\u001b[0;32m----> 1\u001b[0;31m \u001b[0;32mimport\u001b[0m \u001b[0mmimodulo\u001b[0m\u001b[0;34m\u001b[0m\u001b[0;34m\u001b[0m\u001b[0m\n\u001b[0m\u001b[1;32m      2\u001b[0m \u001b[0;34m\u001b[0m\u001b[0m\n\u001b[1;32m      3\u001b[0m \u001b[0mmimodulo\u001b[0m\u001b[0;34m.\u001b[0m\u001b[0mmi_suma\u001b[0m\u001b[0;34m(\u001b[0m \u001b[0;36m3\u001b[0m \u001b[0;34m,\u001b[0m \u001b[0;36m4\u001b[0m \u001b[0;34m)\u001b[0m\u001b[0;34m\u001b[0m\u001b[0;34m\u001b[0m\u001b[0m\n\u001b[1;32m      4\u001b[0m \u001b[0;34m\u001b[0m\u001b[0m\n\u001b[1;32m      5\u001b[0m \u001b[0mmimodulo\u001b[0m\u001b[0;34m.\u001b[0m\u001b[0mmi_print\u001b[0m\u001b[0;34m(\u001b[0m\u001b[0;34m\"hola k ase\"\u001b[0m\u001b[0;34m)\u001b[0m\u001b[0;34m\u001b[0m\u001b[0;34m\u001b[0m\u001b[0m\n",
            "\u001b[0;31mModuleNotFoundError\u001b[0m: No module named 'mimodulo'",
            "",
            "\u001b[0;31m---------------------------------------------------------------------------\u001b[0;32m\nNOTE: If your import is failing due to a missing package, you can\nmanually install dependencies using either !pip or !apt.\n\nTo view examples of installing some common dependencies, click the\n\"Open Examples\" button below.\n\u001b[0;31m---------------------------------------------------------------------------\u001b[0m\n"
          ],
          "errorDetails": {
            "actions": [
              {
                "action": "open_url",
                "actionText": "Open Examples",
                "url": "/notebooks/snippets/importing_libraries.ipynb"
              }
            ]
          }
        }
      ]
    },
    {
      "cell_type": "code",
      "metadata": {
        "colab": {
          "base_uri": "https://localhost:8080/",
          "height": 129
        },
        "id": "urGLZCd0RkAh",
        "outputId": "59daa827-abb8-4a57-f0ba-5d6f1fb9dd50"
      },
      "source": [
        "from mimodulo import mi-print\n",
        "\n",
        "mi_print(\"Hola de nuevo papu\")"
      ],
      "execution_count": null,
      "outputs": [
        {
          "output_type": "error",
          "ename": "SyntaxError",
          "evalue": "ignored",
          "traceback": [
            "\u001b[0;36m  File \u001b[0;32m\"<ipython-input-8-97f8cdc2ca80>\"\u001b[0;36m, line \u001b[0;32m1\u001b[0m\n\u001b[0;31m    from mimodulo import mi-print\u001b[0m\n\u001b[0m                           ^\u001b[0m\n\u001b[0;31mSyntaxError\u001b[0m\u001b[0;31m:\u001b[0m invalid syntax\n"
          ]
        }
      ]
    },
    {
      "cell_type": "code",
      "metadata": {
        "id": "hQ4LRB8dSdEU"
      },
      "source": [
        "from google.colab import drive\n",
        "drive.mount('/content/drive')"
      ],
      "execution_count": null,
      "outputs": []
    },
    {
      "cell_type": "code",
      "metadata": {
        "colab": {
          "base_uri": "https://localhost:8080/"
        },
        "id": "bxv_o28sSCSx",
        "outputId": "3e967c38-4423-421b-f452-f5033442a12e"
      },
      "source": [
        "import sys\n",
        "#dir(sys)\n",
        "print( sys.path )"
      ],
      "execution_count": null,
      "outputs": [
        {
          "output_type": "stream",
          "name": "stdout",
          "text": [
            "['', '/content', '/env/python', '/usr/lib/python37.zip', '/usr/lib/python3.7', '/usr/lib/python3.7/lib-dynload', '/usr/local/lib/python3.7/dist-packages', '/usr/lib/python3/dist-packages', '/usr/local/lib/python3.7/dist-packages/IPython/extensions', '/root/.ipython']\n"
          ]
        }
      ]
    },
    {
      "cell_type": "code",
      "metadata": {
        "colab": {
          "base_uri": "https://localhost:8080/"
        },
        "id": "5hPXx0BDT4oV",
        "outputId": "c7d273d9-7ae2-4473-dfb4-3400aefbbe42"
      },
      "source": [
        "!ls\n"
      ],
      "execution_count": null,
      "outputs": [
        {
          "output_type": "stream",
          "name": "stdout",
          "text": [
            "sample_data\n"
          ]
        }
      ]
    },
    {
      "cell_type": "code",
      "metadata": {
        "colab": {
          "base_uri": "https://localhost:8080/"
        },
        "id": "L65r58kaSszk",
        "outputId": "caa8bd3f-b0a5-4164-e7aa-19923c8367f0"
      },
      "source": [
        "!pip install simple-chalk"
      ],
      "execution_count": null,
      "outputs": [
        {
          "output_type": "stream",
          "name": "stdout",
          "text": [
            "Requirement already satisfied: simple-chalk in /usr/local/lib/python3.7/dist-packages (0.1.0)\n"
          ]
        }
      ]
    },
    {
      "cell_type": "code",
      "metadata": {
        "colab": {
          "base_uri": "https://localhost:8080/"
        },
        "id": "T8GgO_pMUpzB",
        "outputId": "69da80db-e548-44d5-c35e-4e2a13ad833a"
      },
      "source": [
        "from simple_chalk import *\n",
        "print(chalk.blue(\"texto en azul\"))\n",
        "whyNot = green.bgWhite.red.bgGray\n",
        "print(whyNot(\"this is red text with a gray background\"))\n",
        "verde_sobre_negro = green.bgBlack\n",
        "print(verde_sobre_negro(\"test\"))"
      ],
      "execution_count": null,
      "outputs": [
        {
          "output_type": "stream",
          "name": "stdout",
          "text": [
            "\u001b[34mtexto en azul\u001b[0m\n",
            "\u001b[31;100mthis is red text with a gray background\u001b[0m\n",
            "\u001b[32;40mtest\u001b[0m\n"
          ]
        }
      ]
    },
    {
      "cell_type": "markdown",
      "metadata": {
        "id": "Gn7vBqsqXx2i"
      },
      "source": [
        "# Archivos\n",
        "\n",
        "para abrir un archivo se utiliza la funcion open ('nombre','AB')\n",
        "\n",
        "nombre = la ruta del archivo\n",
        "A = modo de apertura (w,r,a,...)\n",
        "B = formato t (texto) o b (binario)\n",
        "\n",
        "Para leer renemos las funciones:\n",
        "\n",
        "- read()\n",
        "- readline()\n",
        "- readlines()\n",
        "\n"
      ]
    },
    {
      "cell_type": "code",
      "metadata": {
        "colab": {
          "base_uri": "https://localhost:8080/"
        },
        "id": "KZyBgLsXY1ig",
        "outputId": "c9989166-deeb-4891-fa14-f6ea7ac86737"
      },
      "source": [
        "!cat datos.dat"
      ],
      "execution_count": null,
      "outputs": [
        {
          "output_type": "stream",
          "name": "stdout",
          "text": [
            "cat: datos.dat: No such file or directory\n"
          ]
        }
      ]
    },
    {
      "cell_type": "code",
      "metadata": {
        "colab": {
          "base_uri": "https://localhost:8080/",
          "height": 231
        },
        "id": "yYXdWeD4XxVn",
        "outputId": "8039bf44-4934-4797-f6c9-19128aa54f31"
      },
      "source": [
        "\"\"\"\n",
        "1,2,3,4,5,6,7,\n",
        "8,9,10\n",
        "11,12\n",
        "13\n",
        "\"\"\"\n",
        "archivo = open('datos.dat','rt')\n",
        "info = archivo.read\n",
        "print( info )\n",
        "\n",
        "# readline ()\n",
        "print(\"----------readline----------\")\n",
        "archivo = open('datos.dat','rt')\n",
        "info = archivo.readline()\n",
        "print( info )\n",
        "\n",
        "# readlines()\n",
        "print(\"----------readlines----------\")\n",
        "archivo = open('datos.dat','rt')\n",
        "info = archivo.readlines()\n",
        "print( info )\n",
        "for index in range(len(info)):\n",
        "    info[index] = info[index].strip()\n",
        "\n",
        "print (info)\n",
        "\n",
        "numeros = []\n",
        "\n",
        "for grupo in info:\n",
        "    for numero in info.split(','):\n",
        "        numeros.appened(int (numero) )\n",
        "print(numeros)\n",
        "\n",
        "suma = 0\n",
        "for num in numeros:\n",
        "    suma += num\n",
        "\n",
        "print( suma )"
      ],
      "execution_count": null,
      "outputs": [
        {
          "output_type": "error",
          "ename": "FileNotFoundError",
          "evalue": "ignored",
          "traceback": [
            "\u001b[0;31m---------------------------------------------------------------------------\u001b[0m",
            "\u001b[0;31mFileNotFoundError\u001b[0m                         Traceback (most recent call last)",
            "\u001b[0;32m<ipython-input-33-ca24264e76d9>\u001b[0m in \u001b[0;36m<module>\u001b[0;34m()\u001b[0m\n\u001b[1;32m      5\u001b[0m \u001b[0;36m13\u001b[0m\u001b[0;34m\u001b[0m\u001b[0;34m\u001b[0m\u001b[0m\n\u001b[1;32m      6\u001b[0m \"\"\"\n\u001b[0;32m----> 7\u001b[0;31m \u001b[0marchivo\u001b[0m \u001b[0;34m=\u001b[0m \u001b[0mopen\u001b[0m\u001b[0;34m(\u001b[0m\u001b[0;34m'datos.dat'\u001b[0m\u001b[0;34m,\u001b[0m\u001b[0;34m'rt'\u001b[0m\u001b[0;34m)\u001b[0m\u001b[0;34m\u001b[0m\u001b[0;34m\u001b[0m\u001b[0m\n\u001b[0m\u001b[1;32m      8\u001b[0m \u001b[0minfo\u001b[0m \u001b[0;34m=\u001b[0m \u001b[0marchivo\u001b[0m\u001b[0;34m.\u001b[0m\u001b[0mread\u001b[0m\u001b[0;34m\u001b[0m\u001b[0;34m\u001b[0m\u001b[0m\n\u001b[1;32m      9\u001b[0m \u001b[0mprint\u001b[0m\u001b[0;34m(\u001b[0m \u001b[0minfo\u001b[0m \u001b[0;34m)\u001b[0m\u001b[0;34m\u001b[0m\u001b[0;34m\u001b[0m\u001b[0m\n",
            "\u001b[0;31mFileNotFoundError\u001b[0m: [Errno 2] No such file or directory: 'datos.dat'"
          ]
        }
      ]
    },
    {
      "cell_type": "markdown",
      "metadata": {
        "id": "MvcFhun5fVO4"
      },
      "source": [
        "# Programacion orientada a objetos en Python\n",
        "\n",
        "La POO es un paradigma no soportado originalmente por Python, Python aneja el paradigma imperativo\n",
        "\n",
        "Python simula la POO con la declaracion de clases y haciendo referencia a un objeto de forma cicrular, self en python es this de java\n",
        "\n",
        "1. Forma 1\n",
        "`\n",
        "class <Nombre de la case>:\n",
        "      <definicion del cuerpo de la clase>\n",
        "`\n",
        "2. forma 2:\n",
        "`\n",
        "\n",
        "class <nombre de la clase>(<Super clase>):\n",
        "       <Definicion del cuerpo de la clase>\n",
        "       `\n",
        "       El constructor se define siempre por el metodo __init__() (CON DOBLE GUION)\n",
        "La declaracion de stributos se realiza por medio del constructor.\n",
        "para hacer encapsulamiento de metodos o atributos se debe poner __ (DOBLE GUION)"
      ]
    },
    {
      "cell_type": "code",
      "metadata": {
        "id": "A5erUHGeobMg"
      },
      "source": [
        "class persona:\n",
        "  def __init__( self , n, e, est ):\n",
        "    self.__nombre = n\n",
        "    self.__edad = e\n",
        "    self.__estatura = est\n",
        "\n",
        "  def to_string( self ):\n",
        "    return \"Nombre: \" + self.__nombre + \", Edad: \" + str(self.__edad) + \" Estatura: \" + str(self.__estatura)\n",
        "\n",
        "  def set_estatura( self, nueva_est):\n",
        "    if nueva_est > 0.10 and nueva_est < 2.5 : \n",
        "      self.__estatura = nueva_est\n",
        "\n",
        "    else: \n",
        "      print(\"Error: Esa estatura no es posible.\")\n",
        "\n",
        "  def get_estatura( self ):\n",
        "    return self.__estatura"
      ],
      "execution_count": null,
      "outputs": []
    },
    {
      "cell_type": "code",
      "metadata": {
        "id": "7REvJlxawAut"
      },
      "source": [
        "per = persona(\"Juan\", 19, 1.70) \n",
        "print(per.to_string())\n",
        "\n",
        "# Encapsulamiento\n",
        "\n",
        "per.nombre = \"Skyro\"    #ESTO NO SE RECOMIENDA\n",
        "print(per.to_string())\n",
        "\n",
        "#per.estatura = 3.9\n",
        "per.set_estatura(3.9)\n",
        "print(per.to_string())\n",
        "\n",
        "print(\"Estatura: \", end=\"\")\n",
        "#print( per.__estatura )\n",
        "print( per.get_estatura() )"
      ],
      "execution_count": null,
      "outputs": []
    },
    {
      "cell_type": "code",
      "metadata": {
        "id": "v6jsj_dFwJU1"
      },
      "source": [
        "class Estudiante( persona ):\n",
        "  def __init__( self, nc, nombre, edad, est ):\n",
        "    self.__num_cta = nc\n",
        "    super().__init__(nombre, edad, est)\n",
        "\n",
        "  def to_string( self ):\n",
        "    return super().to_string() + \" Numero de cta. : \" + self.__num_cta"
      ],
      "execution_count": null,
      "outputs": []
    },
    {
      "cell_type": "code",
      "metadata": {
        "id": "bKFtAGcxwLt7"
      },
      "source": [
        "est = Estudiante( \"212020202\", \"Juan\", 18, 1.7)\n",
        "print( est.to_string() )"
      ],
      "execution_count": null,
      "outputs": []
    }
  ]
}