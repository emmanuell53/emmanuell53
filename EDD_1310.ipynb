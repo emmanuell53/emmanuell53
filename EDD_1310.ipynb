{
  "nbformat": 4,
  "nbformat_minor": 0,
  "metadata": {
    "colab": {
      "name": "EDD 1310.ipynb",
      "provenance": [],
      "collapsed_sections": [],
      "authorship_tag": "ABX9TyPUF2ZCKFHgifOoWvq1USmr",
      "include_colab_link": true
    },
    "kernelspec": {
      "name": "python3",
      "display_name": "Python 3"
    },
    "language_info": {
      "name": "python"
    }
  },
  "cells": [
    {
      "cell_type": "markdown",
      "metadata": {
        "id": "view-in-github",
        "colab_type": "text"
      },
      "source": [
        "<a href=\"https://colab.research.google.com/github/emmanuell53/emmanuell53/blob/master/EDD_1310.ipynb\" target=\"_parent\"><img src=\"https://colab.research.google.com/assets/colab-badge.svg\" alt=\"Open In Colab\"/></a>"
      ]
    },
    {
      "cell_type": "code",
      "metadata": {
        "colab": {
          "base_uri": "https://localhost:8080/"
        },
        "id": "dG48EmPphTVb",
        "outputId": "d17ba289-aab2-4026-b511-d71e34519cf8"
      },
      "source": [
        "class Array:\n",
        "    def __init__( self , tam ):\n",
        "        self.__tamanio = tam\n",
        "        self.__data = [ 0 for x in range(self.__tamanio) ]\n",
        "\n",
        "    def to_string( self ):\n",
        "        info = \" \"\n",
        "        for dato in self.__data:\n",
        "            info = info + str(dato) + \"|\"\n",
        "        return info\n",
        "\n",
        "    def get_item( self , index ):\n",
        "        return self.__data[index]\n",
        "\n",
        "\n",
        "    def get_length( self ):\n",
        "        return len( self.__data )\n",
        "\n",
        "    def set_item( self , dato, index ):\n",
        "        #hace falta revisar limites\n",
        "        if index >= 0 and index < self.get_length():\n",
        "            self.__data[index] = 30\n",
        "        else: \n",
        "            print(\"ERROR: indice fuera de rango\")\n",
        "\n",
        "    def clear( self , dato):\n",
        "        self.__data = [ dato for x in range(self.__tamanio) ]\n",
        "\n",
        "ejemplo = Array(20)\n",
        "print( ejemplo.to_string() )\n",
        "print( ejemplo.get_item(2) )\n",
        "ejemplo.set_item( 45 , 2 )"
      ],
      "execution_count": 3,
      "outputs": [
        {
          "output_type": "stream",
          "name": "stdout",
          "text": [
            " 0|0|0|0|0|0|0|0|0|0|0|0|0|0|0|0|0|0|0|0|\n",
            "0\n"
          ]
        }
      ]
    },
    {
      "cell_type": "code",
      "metadata": {
        "id": "FCyVwKIniOvg",
        "colab": {
          "base_uri": "https://localhost:8080/"
        },
        "outputId": "c52d486c-bcdb-4cc6-9bef-4b86dabd5f61"
      },
      "source": [
        "lista = [ 3 * x for x in range(10) ]\n",
        "print(lista)"
      ],
      "execution_count": 1,
      "outputs": [
        {
          "output_type": "stream",
          "name": "stdout",
          "text": [
            "[0, 3, 6, 9, 12, 15, 18, 21, 24, 27]\n"
          ]
        }
      ]
    },
    {
      "cell_type": "markdown",
      "metadata": {
        "id": "HTeYFNTsh1Yy"
      },
      "source": [
        "LA CARPETA DE DATOS ES VOLATIL"
      ]
    },
    {
      "cell_type": "code",
      "metadata": {
        "colab": {
          "base_uri": "https://localhost:8080/"
        },
        "id": "k-TTzklSh17t",
        "outputId": "d878ed47-ee26-4514-d5c2-0c4323dca96a"
      },
      "source": [
        "!ls -la"
      ],
      "execution_count": 6,
      "outputs": [
        {
          "output_type": "stream",
          "name": "stdout",
          "text": [
            "total 20\n",
            "drwxr-xr-x 1 root root 4096 Oct  7 16:28 .\n",
            "drwxr-xr-x 1 root root 4096 Oct  7 16:13 ..\n",
            "drwxr-xr-x 4 root root 4096 Sep 30 17:11 .config\n",
            "-rw-r--r-- 1 root root  638 Oct  7 16:28 junio.dat\n",
            "drwxr-xr-x 1 root root 4096 Sep 30 17:12 sample_data\n"
          ]
        }
      ]
    },
    {
      "cell_type": "code",
      "metadata": {
        "colab": {
          "base_uri": "https://localhost:8080/"
        },
        "id": "6agX2drRmwas",
        "outputId": "160a9b88-5f94-4aea-dd35-bf667d70d2fa"
      },
      "source": [
        "!cat junio.dat"
      ],
      "execution_count": 7,
      "outputs": [
        {
          "output_type": "stream",
          "name": "stdout",
          "text": [
            "numero de trabajador, nombres, paterno, materno, horas extra, sueldo base, año de ingreso\r\n",
            "2345,CARLOS,PEREZ,CASTILLO,0,9850,2017\r\n",
            "5754,ANGEL,GOMEZ,GARRIDO,1,9850,2020\r\n",
            "5345,JESUS,MARTIN,SANTOS,2,9850,2016\r\n",
            "3267,DAVID,JIMENEZ,LOZANO,2,9850,2017\r\n",
            "8765,PEDRO,RUIZ,GUERRERO,2,9850,2017\r\n",
            "5454,DANIEL,HERNANDEZ,CANO,3,9850,2018\r\n",
            "3456,ALEJANDRO,DIAZ,PRIETO,2,9850,2018\r\n",
            "3445,MARIA,MORENO,MENDEZ,1,9850,2018\r\n",
            "9088,ALBERTO,MU�OZ,CRUZ,1,9850,2017\r\n",
            "8877,RAFAEL,ALVAREZ,FLORES,2,9850,2017\r\n",
            "6767,FERNANDO,ROMERO,HERRERA,4,9850,2019\r\n",
            "5654,PABLO,ALONSO,GALLEGO,1,9850,2019\r\n",
            "4323,JORGE,GUTIERREZ,MARQUEZ,2,9850,2020\r\n",
            "2232,RAMON,NAVARRO,LEON,1,9850,2016"
          ]
        }
      ]
    },
    {
      "cell_type": "code",
      "metadata": {
        "colab": {
          "base_uri": "https://localhost:8080/"
        },
        "id": "i3ynXU4anB6H",
        "outputId": "e54a3235-e219-4370-df3b-d5f051065e86"
      },
      "source": [
        "archivo = open('junio.dat' , 'rt' , encoding='latin-1')\n",
        "print(archivo.read())"
      ],
      "execution_count": 14,
      "outputs": [
        {
          "output_type": "stream",
          "name": "stdout",
          "text": [
            "numero de trabajador, nombres, paterno, materno, horas extra, sueldo base, aÃ±o de ingreso\n",
            "2345,CARLOS,PEREZ,CASTILLO,0,9850,2017\n",
            "5754,ANGEL,GOMEZ,GARRIDO,1,9850,2020\n",
            "5345,JESUS,MARTIN,SANTOS,2,9850,2016\n",
            "3267,DAVID,JIMENEZ,LOZANO,2,9850,2017\n",
            "8765,PEDRO,RUIZ,GUERRERO,2,9850,2017\n",
            "5454,DANIEL,HERNANDEZ,CANO,3,9850,2018\n",
            "3456,ALEJANDRO,DIAZ,PRIETO,2,9850,2018\n",
            "3445,MARIA,MORENO,MENDEZ,1,9850,2018\n",
            "9088,ALBERTO,MUOZ,CRUZ,1,9850,2017\n",
            "8877,RAFAEL,ALVAREZ,FLORES,2,9850,2017\n",
            "6767,FERNANDO,ROMERO,HERRERA,4,9850,2019\n",
            "5654,PABLO,ALONSO,GALLEGO,1,9850,2019\n",
            "4323,JORGE,GUTIERREZ,MARQUEZ,2,9850,2020\n",
            "2232,RAMON,NAVARRO,LEON,1,9850,2016\n"
          ]
        }
      ]
    },
    {
      "cell_type": "code",
      "metadata": {
        "id": "8R-wo1PQn5m7"
      },
      "source": [
        "class Trabajador:\n",
        "    def _init_( self, nt , nom , pat , mat , he , sb , ai ):\n",
        "        self.__numero_trabajador = nt\n",
        "        # asi para todos los atributos\n",
        "\n",
        "        # aqui van todos los metodos de acceso\n",
        "        def set_numero_trabajador( self , nt):\n",
        "            self.__numero_trabajador = nt\n",
        "\n",
        "        # metodos de uso gral.  --> metodos que hacen calculos de la logistica"
      ],
      "execution_count": 22,
      "outputs": []
    },
    {
      "cell_type": "code",
      "metadata": {
        "colab": {
          "base_uri": "https://localhost:8080/",
          "height": 129
        },
        "id": "Tm3LoxdNoPCB",
        "outputId": "0361408b-9412-45f3-fb3a-b092553c9d57"
      },
      "source": [
        "class NominaADT:\n",
        "    def __init__( self , ruta_archivo ):\n",
        "        # abrir el archivo y determinar el numero de empleados\n",
        "        self.__data = Array( num_emp )\n",
        "\n",
        "    def calcular_sueldos( self ):\n",
        "        #iterar sobre el array y hacer el calculo de sueldos\n",
        "\n",
        "    def buscar_mas_antiguo( self ):\n",
        "        # iterar y buscara en el array el mas antiguo\n",
        "\n",
        "    def buscar_menor_antiguedad( self )\n",
        "        # idem"
      ],
      "execution_count": 54,
      "outputs": [
        {
          "output_type": "error",
          "ename": "IndentationError",
          "evalue": "ignored",
          "traceback": [
            "\u001b[0;36m  File \u001b[0;32m\"<ipython-input-54-baf205d8683b>\"\u001b[0;36m, line \u001b[0;32m9\u001b[0m\n\u001b[0;31m    def buscar_mas_antiguo( self ):\u001b[0m\n\u001b[0m      ^\u001b[0m\n\u001b[0;31mIndentationError\u001b[0m\u001b[0;31m:\u001b[0m expected an indented block\n"
          ]
        }
      ]
    },
    {
      "cell_type": "code",
      "metadata": {
        "colab": {
          "base_uri": "https://localhost:8080/"
        },
        "id": "2KxGytJsr8Id",
        "outputId": "8fa2a956-bbe1-4adc-abdd-3716ed2d6549"
      },
      "source": [
        "sueldo_base = 100\n",
        "anio = 2019\n",
        "anti = 2\n",
        "prestacion = 100 * (2 * 0.03)\n",
        "print(sueldo_base + prestacion)"
      ],
      "execution_count": 58,
      "outputs": [
        {
          "output_type": "stream",
          "name": "stdout",
          "text": [
            "106.0\n"
          ]
        }
      ]
    }
  ]
}