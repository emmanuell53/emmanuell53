{
  "nbformat": 4,
  "nbformat_minor": 0,
  "metadata": {
    "colab": {
      "name": "EDD 1310.ipynb",
      "provenance": [],
      "collapsed_sections": [],
      "authorship_tag": "ABX9TyPsX6NO8MehvlONlzypwdOc",
      "include_colab_link": true
    },
    "kernelspec": {
      "name": "python3",
      "display_name": "Python 3"
    },
    "language_info": {
      "name": "python"
    }
  },
  "cells": [
    {
      "cell_type": "markdown",
      "metadata": {
        "id": "view-in-github",
        "colab_type": "text"
      },
      "source": [
        "<a href=\"https://colab.research.google.com/github/emmanuell53/emmanuell53/blob/master/EDD_1310.ipynb\" target=\"_parent\"><img src=\"https://colab.research.google.com/assets/colab-badge.svg\" alt=\"Open In Colab\"/></a>"
      ]
    },
    {
      "cell_type": "code",
      "metadata": {
        "colab": {
          "base_uri": "https://localhost:8080/",
          "height": 129
        },
        "id": "dG48EmPphTVb",
        "outputId": "b0e433cc-f3e3-4076-f844-a7a9414cf3dc"
      },
      "source": [
        "class Array\n",
        "    def __init__( self , tam ):\n",
        "        self.__tamanio = tam\n",
        "        self.__data = [ 0 for x in range(self.__tamanio) ]\n",
        "\n",
        "    def to_string( self ):\n",
        "        info = \" \"\n",
        "        for dato in self.__fata:\n",
        "            info = info + str(dato) + \"|\"\n",
        "        return info\n",
        "\n",
        "    def get_item( self , index ):\n",
        "        return self.__data[index]\n",
        "\n",
        "\n",
        "    def get_length( self ):\n",
        "        return len( self.__data )\n",
        "\n",
        "    def set_item( self , dato, index ):\n",
        "        #hace falta revisar limites\n",
        "        if index >= 0 and index < self.get_length():\n",
        "            self.__data[index] = 30\n",
        "        else: \n",
        "            print(\"ERROR: indice fuera de rango\")\n",
        "\n",
        "    def clear( self , dato):\n",
        "        self.__data = [ dato for x in range(self.__tamanio) ]\n",
        "\n",
        "ejemplo = Array(20)\n",
        "print( ejemplo.to_string() )\n",
        "print( ejemplo.get_item(2) )\n",
        "ejemplo.set_item( 45 , 2 )"
      ],
      "execution_count": 10,
      "outputs": [
        {
          "output_type": "error",
          "ename": "SyntaxError",
          "evalue": "ignored",
          "traceback": [
            "\u001b[0;36m  File \u001b[0;32m\"<ipython-input-10-df4a1994e898>\"\u001b[0;36m, line \u001b[0;32m1\u001b[0m\n\u001b[0;31m    class Array\u001b[0m\n\u001b[0m               ^\u001b[0m\n\u001b[0;31mSyntaxError\u001b[0m\u001b[0;31m:\u001b[0m invalid syntax\n"
          ]
        }
      ]
    },
    {
      "cell_type": "code",
      "metadata": {
        "id": "FCyVwKIniOvg"
      },
      "source": [
        "lista = [ 3 * x for x in range(10) ]"
      ],
      "execution_count": 3,
      "outputs": []
    }
  ]
}